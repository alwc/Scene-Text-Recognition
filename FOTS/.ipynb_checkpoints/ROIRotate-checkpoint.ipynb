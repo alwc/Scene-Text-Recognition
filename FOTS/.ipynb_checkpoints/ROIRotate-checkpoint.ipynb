{
 "cells": [
  {
   "cell_type": "markdown",
   "metadata": {},
   "source": [
    "# FOTS: Fast Oriented Text Spotting with a Unified Network\n",
    "[https://arxiv.org/pdf/1801.01671v2.pdf]\n",
    "\n",
    "# ROIRotate Implementation"
   ]
  },
  {
   "cell_type": "code",
   "execution_count": 1,
   "metadata": {
    "collapsed": true
   },
   "outputs": [],
   "source": [
    "%matplotlib inline\n",
    "import numpy as np\n",
    "import matplotlib.pyplot as plt\n",
    "import matplotlib.image as mpimg"
   ]
  },
  {
   "cell_type": "markdown",
   "metadata": {},
   "source": [
    "- ** Note :- ** For using math expression in IPython notebook (as used here) refer to below :-\n",
    "[https://en.wikibooks.org/wiki/LaTeX/Mathematics#Multiplication_of_two_numbers]"
   ]
  },
  {
   "cell_type": "markdown",
   "metadata": {},
   "source": [
    "### Test image\n",
    "- The test image is created using powerpoint\n",
    "- Text region is created and rotated by 30 degrees anticlockwise\n",
    "- Image size (w,h) = (600, 394)\n",
    "- The reference point inside the bounding box $(x,y)$ is given as \n",
    "$$pref = (275, 139)$$\n",
    "- The points perpendicularly to the top, left, bottom, right of the reference point on the bounding box are given as\n",
    "$$pt = (223, 52)$$\n",
    "$$pl = (112, 233)$$\n",
    "$$pb = (292, 168)$$\n",
    "$$pr = (334, 106)$$\n",
    "- These points are highlighted in image on the blue lines inside the bounding box.\n",
    "- The coordinate system is such that :-\n",
    "    - Along x-axis, x increases from left to right.\n",
    "    - Along y-axis, y increases from top to bottom.\n",
    "    - Standard axis system used in computer vision libs (opencv, matplotlib etc.)"
   ]
  },
  {
   "cell_type": "code",
   "execution_count": 2,
   "metadata": {
    "collapsed": true
   },
   "outputs": [],
   "source": [
    "img_path = './Test_Image.jpg'\n",
    "img=mpimg.imread(img_path)"
   ]
  },
  {
   "cell_type": "code",
   "execution_count": 3,
   "metadata": {
    "collapsed": false
   },
   "outputs": [
    {
     "data": {
      "text/plain": [
       "(394, 600, 3)"
      ]
     },
     "execution_count": 3,
     "metadata": {},
     "output_type": "execute_result"
    }
   ],
   "source": [
    "img.shape"
   ]
  },
  {
   "cell_type": "code",
   "execution_count": 4,
   "metadata": {
    "collapsed": true
   },
   "outputs": [],
   "source": [
    "pref = (275, 139)\n",
    "pt = (223, 52)\n",
    "pl = (112, 233)\n",
    "pb = (292, 168)\n",
    "pr = (334, 106)"
   ]
  },
  {
   "cell_type": "code",
   "execution_count": 5,
   "metadata": {
    "collapsed": false
   },
   "outputs": [
    {
     "data": {
      "text/plain": [
       "<matplotlib.image.AxesImage at 0x68655b0>"
      ]
     },
     "execution_count": 5,
     "metadata": {},
     "output_type": "execute_result"
    },
    {
     "data": {
      "image/png": "[encoded data removed]",
      "text/plain": [
       "<matplotlib.figure.Figure at 0x67fa990>"
      ]
     },
     "metadata": {},
     "output_type": "display_data"
    }
   ],
   "source": [
    "plt.imshow(img)"
   ]
  },
  {
   "cell_type": "markdown",
   "metadata": {},
   "source": [
    "### Function to calculate distance between two points\n",
    "- a, b are points in $(x,y)$ axis"
   ]
  },
  {
   "cell_type": "code",
   "execution_count": 6,
   "metadata": {
    "collapsed": false
   },
   "outputs": [],
   "source": [
    "def dist(a, b):\n",
    "    return np.sqrt((a[0]-b[0])*(a[0]-b[0]) + (a[1]-b[1])*(a[1]-b[1]))"
   ]
  },
  {
   "cell_type": "markdown",
   "metadata": {},
   "source": [
    "# Affine Transformations :- \n",
    "\n",
    "- The $pref=(xref,yref)$ point is the point inside the text region.\n",
    "- Its distances from the top, left, bottom, right sides of the bounding box is given by variables $(t,l,b,r)$\n",
    "- The angle from the horizontal of the bounding box is given by $\\theta$\n",
    "- **Note :-** There is some difference in equations in implementation and the one given in paper regarding $\\theta$\n",
    "- In the implementation, we take clockwise angle as +ve and anticlockwise as -ve.\n",
    "- This implies, for the image in above example, $\\theta$ = -30 degree ($\\frac{-\\pi}{6}$)\n",
    "- While rotating, we have to rotate in opposite direction of theta so we do a rotation with ($-\\theta$)\n",
    "- Therefore affine transformation is carried out as follows :-\n",
    "\n",
    "### Translation\n",
    "- The top-left point of bounding box is shifted to origin.\n",
    "- Coordinates of top-left point = $ (xtop, ytop) = (xref-(lcos\\theta - tsin\\theta), yref-(lsin\\theta + tcos\\theta) )$\n",
    "    - Draw on paper and verify, apply trignometry\n",
    "    - Consider that $\\theta$ is +ve when clockwise else -ve\n",
    "- Therefore transformation to shift to origin = $ (-xtop, -ytop) = ((lcos\\theta - tsin\\theta)-xref, (lsin\\theta + tcos\\theta)-yref )$\n",
    "- This implies $(tx,ty) = ((lcos\\theta - tsin\\theta)-xref, (lsin\\theta + tcos\\theta)-yref )$\n",
    "- Translation matrix = $$\\left[ \\begin{matrix} \n",
    "                                   1 & 0 & tx \\\\\n",
    "                                   0 & 1 & ty \\\\\n",
    "                                   0 & 0 & 1\n",
    "                                 \\end{matrix} \\right]$$\n",
    "                                 \n",
    "### Rotation\n",
    "- Now rotation is performed to align the bounding box to horizontal-vertical axis\n",
    "- Rotation is carried out in the reverse direction of $\\theta$\n",
    "- That is, if $\\theta$ is -ve we do a clockwise rotation and if $\\theta$ is +ve we do anti-clockwise rotation.\n",
    "- Clockwise rotation in our coordinate system (i.e. x increases to left to right and y increases top to bottom) is given by rotation matrix = $$\\left[ \\begin{matrix} \n",
    "                                   cos(\\theta) & -sin(\\theta) & 0 \\\\\n",
    "                                   sin(\\theta) & cos(\\theta) & 0 \\\\\n",
    "                                   0 & 0 & 1\n",
    "                                 \\end{matrix} \\right]$$\n",
    "- But if we are rotating clockwise, this means that bounding box angle $\\theta$ must be -ve (anticlockwise).\n",
    "- So, in effect we are rotating by $-\\theta$\n",
    "- Therefore rotation matrix = $$\\left[ \\begin{matrix} \n",
    "                                   cos(-\\theta) & -sin(-\\theta) & 0 \\\\\n",
    "                                   sin(-\\theta) & cos(-\\theta) & 0 \\\\\n",
    "                                   0 & 0 & 1\n",
    "                                 \\end{matrix} \\right]$$                                 \n",
    "\n",
    "### Scaling\n",
    "- Finally scaling is done to bring the bounding box to the desired size.\n",
    "- The height of the target bounding box (ht) is fixed. (In the paper, $ht = 8$)\n",
    "- The width of the target bounding box (wt) is scaled maintaining the aspect ratio.\n",
    "- Scaling factor s is given as :- $$s = \\frac{ht}{t+b}$$\n",
    "- This implies :- $$wt = s * (l+r)$$\n",
    "- Scaling matrix = $$\\left[ \\begin{matrix} \n",
    "                                   s & 0 & 0 \\\\\n",
    "                                   0 & s & 0 \\\\\n",
    "                                   0 & 0 & 1\n",
    "                                 \\end{matrix} \\right]$$\n",
    "                                 \n",
    "                                 \n",
    "### Complete transformation\n",
    "- Therefore the complete transformation from the source coordinate system $(xs,ys)$ to new coordinate system $(xt,yt)$ is given as $$ M = scaling * rotation * translation $$\n",
    "- $$ M = \\left[ \\begin{matrix} \n",
    "                   s & 0 & 0 \\\\\n",
    "                   0 & s & 0 \\\\\n",
    "                   0 & 0 & 1\n",
    "                 \\end{matrix} \\right] \n",
    "          \\left[ \\begin{matrix} \n",
    "                   cos(-\\theta) & -sin(-\\theta) & 0 \\\\\n",
    "                   sin(-\\theta) & cos(-\\theta) & 0 \\\\\n",
    "                   0 & 0 & 1\n",
    "                 \\end{matrix} \\right] \n",
    "          \\left[ \\begin{matrix} \n",
    "                   1 & 0 & tx \\\\\n",
    "                   0 & 1 & ty \\\\\n",
    "                   0 & 0 & 1\n",
    "                 \\end{matrix} \\right]$$"
   ]
  },
  {
   "cell_type": "code",
   "execution_count": 7,
   "metadata": {
    "collapsed": true
   },
   "outputs": [],
   "source": [
    "t = dist(pref, pt)\n",
    "l = dist(pref, pl)\n",
    "b = dist(pref, pb)\n",
    "r = dist(pref, pr)\n",
    "theta = -np.pi/6"
   ]
  },
  {
   "cell_type": "code",
   "execution_count": 8,
   "metadata": {
    "collapsed": true
   },
   "outputs": [],
   "source": [
    "# For visualization purpose setting ht to 96 (instead of 8 as in paper).\n",
    "ht = 96.0\n",
    "s = ht/(t+b)\n",
    "wt = s*(l+r)"
   ]
  },
  {
   "cell_type": "code",
   "execution_count": 9,
   "metadata": {
    "collapsed": false
   },
   "outputs": [
    {
     "name": "stdout",
     "output_type": "stream",
     "text": [
      "96.0 181.915277724\n",
      "101.355808911 188.162164103 33.6154726279 67.6017751246\n",
      "0.711262417497\n",
      "-0.5\n"
     ]
    }
   ],
   "source": [
    "print (ht, wt)\n",
    "print (t, l, b, r)\n",
    "print (s)\n",
    "print (np.sin(theta))"
   ]
  },
  {
   "cell_type": "markdown",
   "metadata": {},
   "source": [
    "### Function to return the transformation matrix\n",
    "- Given a reference point inside bounding box $(xref,yref)$ and distances from top, left, bottom, right edges $(t,l,b,r)$ and angle $\\theta$.\n",
    "- Returns the transformation matrix $M$ needed to perform affine transformation for converting coordinates from source to target."
   ]
  },
  {
   "cell_type": "code",
   "execution_count": 10,
   "metadata": {
    "collapsed": true
   },
   "outputs": [],
   "source": [
    "def getTransformMatrix(x, y, t, l, b, r, theta):\n",
    "    s = ht/(t+b)\n",
    "    tx = (l*np.cos(theta)) - (t*np.sin(theta)) - x\n",
    "    ty = (l*np.sin(theta)) + (t*np.cos(theta)) - y\n",
    "    translate = np.array([[1, 0, tx], [0, 1, ty], [0, 0, 1]], dtype=np.float32)\n",
    "    scale = np.array([[s, 0, 0], [0, s, 0], [0, 0, 1]], dtype=np.float32)\n",
    "    rotate = np.array([[np.cos(-theta), -np.sin(-theta), 0], [np.sin(-theta), np.cos(-theta), 0], [0, 0, 1]], dtype=np.float32)\n",
    "    M = np.matmul(scale, rotate)\n",
    "    M = np.matmul(M, translate)\n",
    "    return M"
   ]
  },
  {
   "cell_type": "markdown",
   "metadata": {},
   "source": [
    "### Get the transformation matrix for our example image"
   ]
  },
  {
   "cell_type": "code",
   "execution_count": 11,
   "metadata": {
    "collapsed": true
   },
   "outputs": [],
   "source": [
    "M = getTransformMatrix(pref[0], pref[1], t, l, b, r, theta)\n",
    "M_inv = np.linalg.inv(M)"
   ]
  },
  {
   "cell_type": "code",
   "execution_count": 12,
   "metadata": {
    "collapsed": false
   },
   "outputs": [
    {
     "name": "stdout",
     "output_type": "stream",
     "text": [
      "[[   0.61597133   -0.3556312    13.87329865]\n",
      " [   0.3556312     0.61597133 -111.32802582]\n",
      " [   0.            0.            1.        ]]\n",
      "[[   1.21758914    0.70297539   61.36888504]\n",
      " [  -0.70297539    1.21758914  145.30438232]\n",
      " [   0.            0.            1.        ]]\n"
     ]
    }
   ],
   "source": [
    "print (M)\n",
    "print (M_inv)"
   ]
  },
  {
   "cell_type": "markdown",
   "metadata": {},
   "source": [
    "### Performing inverse transformation\n",
    "- Inverse transformation is used to find the source pixel for every pixel in target image.\n",
    "- Target image size $(w,h) = (wt,ht)$ [Therefore array dimensions = $(ht,wt)$]\n",
    "- for every pixel in target image $(x^t, y^t, 1)$, source pixel $(x^s, y^s, 1)$ is given as :-\n",
    "$$ \\left[ \\begin{matrix} x^s \\\\ y^s \\\\ 1 \\end{matrix} \\right] = M^{-1} \\left[ \\begin{matrix} x^t \\\\ y^t \\\\ 1 \\end{matrix} \\right]$$"
   ]
  },
  {
   "cell_type": "code",
   "execution_count": 13,
   "metadata": {
    "collapsed": false
   },
   "outputs": [
    {
     "name": "stderr",
     "output_type": "stream",
     "text": [
      "C:\\Users\\Honey\\Anaconda3\\lib\\site-packages\\ipykernel\\__main__.py:1: VisibleDeprecationWarning: using a non-integer number instead of an integer will result in an error in the future\n",
      "  if __name__ == '__main__':\n"
     ]
    }
   ],
   "source": [
    "img_out = np.zeros((np.floor(ht), np.floor(wt), 3))\n",
    "\n",
    "for i in range(int(np.floor(wt))):\n",
    "    for j in range(int(np.floor(ht))):\n",
    "        s_vec = np.matmul(M_inv, np.array([i, j, 1], dtype=np.float32))\n",
    "        img_out[j, i, :] = img[int(s_vec[1]), int(s_vec[0]), :]"
   ]
  },
  {
   "cell_type": "markdown",
   "metadata": {},
   "source": [
    "### Plotting the transformed image"
   ]
  },
  {
   "cell_type": "code",
   "execution_count": 14,
   "metadata": {
    "collapsed": false
   },
   "outputs": [
    {
     "name": "stdout",
     "output_type": "stream",
     "text": [
      "(96, 181, 3)\n"
     ]
    },
    {
     "data": {
      "text/plain": [
       "<matplotlib.image.AxesImage at 0x7a5b150>"
      ]
     },
     "execution_count": 14,
     "metadata": {},
     "output_type": "execute_result"
    },
    {
     "data": {
      "image/png": "[encoded data removed]",
      "text/plain": [
       "<matplotlib.figure.Figure at 0x699db90>"
      ]
     },
     "metadata": {},
     "output_type": "display_data"
    }
   ],
   "source": [
    "print(img_out.shape)\n",
    "plt.imshow(img_out.astype('uint8'))"
   ]
  }
 ],
 "metadata": {
  "kernelspec": {
   "display_name": "Python 3",
   "language": "python",
   "name": "python3"
  },
  "language_info": {
   "codemirror_mode": {
    "name": "ipython",
    "version": 3
   },
   "file_extension": ".py",
   "mimetype": "text/x-python",
   "name": "python",
   "nbconvert_exporter": "python",
   "pygments_lexer": "ipython3",
   "version": "3.6.0"
  }
 },
 "nbformat": 4,
 "nbformat_minor": 2
}
